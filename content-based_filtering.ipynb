{
 "cells": [
  {
   "cell_type": "code",
   "execution_count": 2,
   "metadata": {},
   "outputs": [],
   "source": [
    "# dataset\n",
    "# https://www.kaggle.com/datasets/rounakbanik/the-movies-dataset "
   ]
  },
  {
   "cell_type": "code",
   "execution_count": 16,
   "metadata": {},
   "outputs": [],
   "source": [
    "import pandas as pd\n",
    "from sklearn.feature_extraction.text import TfidfVectorizer\n",
    "from sklearn.metrics.pairwise import cosine_similarity\n",
    "\n",
    "# Read the data\n",
    "movie_data = pd.read_csv('movies_metadata.csv')"
   ]
  },
  {
   "cell_type": "code",
   "execution_count": 17,
   "metadata": {},
   "outputs": [],
   "source": [
    "# Movie summary data, fill null value with empty string\n",
    "movie_summary = movie_data['overview'].fillna('')\n",
    "\n",
    "# Movie title data\n",
    "movie_title_data = movie_data['original_title']\n",
    "\n",
    "# Map movie title to its index\n",
    "movie_to_index = pd.Series(movie_data.index, index=movie_data['title']).drop_duplicates()"
   ]
  },
  {
   "cell_type": "code",
   "execution_count": 18,
   "metadata": {},
   "outputs": [],
   "source": [
    "tfidf = TfidfVectorizer(stop_words='english')\n",
    "movie_matrix= tfidf.fit_transform(movie_summary)"
   ]
  },
  {
   "cell_type": "code",
   "execution_count": 19,
   "metadata": {},
   "outputs": [
    {
     "data": {
      "text/plain": [
       "(45466, 75827)"
      ]
     },
     "execution_count": 19,
     "metadata": {},
     "output_type": "execute_result"
    }
   ],
   "source": [
    "movie_matrix.shape"
   ]
  },
  {
   "cell_type": "code",
   "execution_count": 20,
   "metadata": {},
   "outputs": [],
   "source": [
    "movie_title = 'Furious 7'\n",
    "\n",
    "# Get the index of movie title\n",
    "idx = movie_to_index[movie_title]\n",
    "\n",
    "# Get the corresponding movie summary\n",
    "movie_test_summary = [movie_summary[idx]]"
   ]
  },
  {
   "cell_type": "code",
   "execution_count": 21,
   "metadata": {},
   "outputs": [
    {
     "name": "stdout",
     "output_type": "stream",
     "text": [
      "(1, 75827)\n"
     ]
    }
   ],
   "source": [
    "# Fetch the TF-IDF vector of the corresponding movie\n",
    "movie_test_matrix = tfidf.transform(movie_test_summary)\n",
    "print(movie_test_matrix.shape)"
   ]
  },
  {
   "cell_type": "code",
   "execution_count": 22,
   "metadata": {},
   "outputs": [
    {
     "name": "stdout",
     "output_type": "stream",
     "text": [
      "45466\n"
     ]
    }
   ],
   "source": [
    "# Calculate the cosine similarity between the movie and each of the entry in   # movie_matrix\n",
    "\n",
    "sim_scores = cosine_similarity(movie_test_matrix, movie_matrix).tolist()[0]\n",
    "print(len(sim_scores))"
   ]
  },
  {
   "cell_type": "code",
   "execution_count": 23,
   "metadata": {},
   "outputs": [],
   "source": [
    "sim_scores = sorted(enumerate(sim_scores), key=lambda i: i[1], reverse=True)\n",
    "\n",
    "\n",
    "# Fetch the top 10 recommended movies\n",
    "sim_scores = sim_scores[1:11]"
   ]
  },
  {
   "cell_type": "code",
   "execution_count": 24,
   "metadata": {},
   "outputs": [
    {
     "name": "stdout",
     "output_type": "stream",
     "text": [
      "['The Fast and the Furious', 'Fast & Furious 6', 'Los violadores', 'Fast Five', 'Genius on Hold', 'Youth Without Youth', 'The Skydivers', 'Aenigma', 'The Cell', 'Urban Justice']\n"
     ]
    }
   ],
   "source": [
    "# Fetch the recommended movies' indexes\n",
    "movie_indexes = [i[0] for i in sim_scores]\n",
    "\n",
    "# Print the title of recommended movies\n",
    "print([movie_title_data[i] for i in movie_indexes])"
   ]
  },
  {
   "cell_type": "code",
   "execution_count": 25,
   "metadata": {},
   "outputs": [],
   "source": [
    "def get_recommendation(movie_title, movie_matrix=movie_matrix):\n",
    "\n",
    "  # Get the index of movie title\n",
    "  idx = movie_to_index[movie_title]\n",
    "\n",
    "  # Get the corresponding movie summary\n",
    "  movie_test_summary = [movie_summary[idx]]\n",
    "\n",
    "  # Fetch the TF-IDF vector of the corresponding movie\n",
    "  movie_test_matrix = tfidf.transform(movie_test_summary)\n",
    "\n",
    "  # Calculate the cosine similarity between the movie and each of the entry in                                 #   movie_matrix\n",
    "\n",
    "  sim_scores = cosine_similarity(movie_test_matrix, movie_matrix).tolist()[0]\n",
    "  sim_scores = sorted(enumerate(sim_scores), key=lambda i: i[1], reverse=True)\n",
    "\n",
    "  # Fetch the top 10 recommended movies\n",
    "  sim_scores = sim_scores[1:11]\n",
    "\n",
    "  # Fetch the recommended movies' indexes\n",
    "  movie_indexes = [i[0] for i in sim_scores]\n",
    "\n",
    "  # Return the title of recommended movies\n",
    "  return [movie_title_data[i] for i in movie_indexes]"
   ]
  },
  {
   "cell_type": "code",
   "execution_count": 26,
   "metadata": {},
   "outputs": [
    {
     "data": {
      "text/plain": [
       "['Toy Story 3',\n",
       " 'Toy Story 2',\n",
       " 'The 40 Year Old Virgin',\n",
       " 'Small Fry',\n",
       " \"Andy Hardy's Blonde Trouble\",\n",
       " 'Hot Splash',\n",
       " 'Andy Kaufman Plays Carnegie Hall',\n",
       " 'Superstar: The Life and Times of Andy Warhol',\n",
       " 'Andy Peters: Exclamation Mark Question Point',\n",
       " 'The Champ']"
      ]
     },
     "execution_count": 26,
     "metadata": {},
     "output_type": "execute_result"
    }
   ],
   "source": [
    "get_recommendation('Toy Story')"
   ]
  },
  {
   "cell_type": "code",
   "execution_count": null,
   "metadata": {},
   "outputs": [],
   "source": []
  }
 ],
 "metadata": {
  "kernelspec": {
   "display_name": "GPU_ENV",
   "language": "python",
   "name": "python3"
  },
  "language_info": {
   "codemirror_mode": {
    "name": "ipython",
    "version": 3
   },
   "file_extension": ".py",
   "mimetype": "text/x-python",
   "name": "python",
   "nbconvert_exporter": "python",
   "pygments_lexer": "ipython3",
   "version": "3.7.16"
  }
 },
 "nbformat": 4,
 "nbformat_minor": 2
}
